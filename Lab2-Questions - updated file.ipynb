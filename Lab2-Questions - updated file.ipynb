{
 "cells": [
  {
   "cell_type": "markdown",
   "id": "582fd51e",
   "metadata": {},
   "source": [
    "# Lab 2: numpy\n",
    "\n",
    "#### Practice Exercise 1\n",
    "\n",
    "Create the following NumPy arrays: \n",
    "1. A 1-D array called zeros having 10 elements and all the elements are set to zero. \n",
    "2. A 1-D array called vowels having the elements ‘a’, ‘e’, ‘i’, ‘o’ and ‘u’. \n",
    "3. A 2-D array called ones having 2 rows and 5 columns and all the elements are set to 1 and dtype as int. \n",
    "4. Use nested Python lists to create a 2-D array called myarray1 having 3 rows and 3 columns and store the following data: 2.7,  0,  -2,  3.4,  10.6,  0,  -19 99.9 13 \n",
    "5. A 2-D array called myarray2 using arange() having 3 rows and 5 columns with start value = 4, step size 4 and dtype as float\n"
   ]
  },
  {
   "cell_type": "code",
   "execution_count": 48,
   "id": "9195d139",
   "metadata": {},
   "outputs": [
    {
     "data": {
      "text/plain": [
       "array([[ 4.,  8., 12., 16., 20.],\n",
       "       [24., 28., 32., 36., 40.],\n",
       "       [44., 48., 52., 56., 60.]])"
      ]
     },
     "execution_count": 48,
     "metadata": {},
     "output_type": "execute_result"
    }
   ],
   "source": [
    "# Write your answer here\n",
    "\n",
    "import numpy as np\n",
    "\n",
    "#Q1:\n",
    "zeros = np.zeros(10, dtype=int)\n",
    "zeros\n",
    "\n",
    "#Q2:\n",
    "vowels = np.array(['a','e','o','u','i'])\n",
    "vowels\n",
    "\n",
    "#Q3:\n",
    "ones = np.ones(10, dtype=int).reshape(2,5)\n",
    "ones\n",
    "\n",
    "#Q4:\n",
    "myarray1 = np.array([[2.7, 0, -2],[3.4, 10.6, 0],[-19, 99.9, 13]])\n",
    "myarray1\n",
    "\n",
    "#Q5:\n",
    "myarray2 = np.arange(4,4+15*4,4, dtype=float).reshape(3,5)\n",
    "myarray2"
   ]
  },
  {
   "cell_type": "markdown",
   "id": "2d3fc3a8",
   "metadata": {},
   "source": [
    "Using the arrays created in Question above, write NumPy commands for the following: \n",
    "1. Find the dimensions, shape, size, data type of the items and itemsize of arrays zeros, vowels, ones, myarray1 and myarray2. \n",
    "2. Reshape the array ones to have all the 10 elements in a single row. \n",
    "3. Display the 2nd and 3rd element of the array vowels. \n",
    "4. Display all elements in the 2nd and 3rd row of the array myarray1. \n",
    "5. Display the elements in the 1st and 2nd column of the array myarray1. \n",
    "6. Display the elements in the 1st column of the 2nd and 3rd row of the array myarray1. \n",
    "7. Reverse the array of vowels."
   ]
  },
  {
   "cell_type": "code",
   "execution_count": 84,
   "id": "fc69c3db",
   "metadata": {},
   "outputs": [
    {
     "data": {
      "text/plain": [
       "array(['i', 'u', 'o', 'e', 'a'], dtype='<U1')"
      ]
     },
     "execution_count": 84,
     "metadata": {},
     "output_type": "execute_result"
    }
   ],
   "source": [
    "#Write your answer here\n",
    "\n",
    "#Q1:\n",
    "zeros.ndim, zeros.shape, zeros.size, zeros.dtype.type, zeros.itemsize\n",
    "vowels.ndim, vowels.shape, vowels.size, vowels.dtype.type, vowels.itemsize\n",
    "ones.ndim, ones.shape, ones.size, ones.dtype.type, ones.itemsize\n",
    "myarray1.ndim, myarray1.shape, myarray1.size, myarray1.dtype.type, myarray1.itemsize\n",
    "myarray2.ndim, myarray2.shape, myarray2.size, myarray2.dtype.type, myarray2.itemsize\n",
    "\n",
    "#Q2:\n",
    "ones = ones.reshape(1,10)\n",
    "ones\n",
    "\n",
    "#Q3:\n",
    "vowels[1:3]\n",
    "\n",
    "#Q4:\n",
    "myarray1[1:3 , : ]\n",
    "\n",
    "#Q5:\n",
    "myarray1[ : , 0:2 ]\n",
    "\n",
    "#Q6:\n",
    "myarray1[1:3 , 0:1 ] \n",
    "\n",
    "#Q7:\n",
    "vowels[::-1]"
   ]
  },
  {
   "cell_type": "markdown",
   "id": "e1edb3bb",
   "metadata": {},
   "source": [
    "Using the arrays created in Question above, write NumPy commands for the following:\n",
    "1. Divide all elements of array ones by 3. \n",
    "2. Add the arrays myarray1 and myarray2. \n",
    "3. Subtract myarray1 from myarray2 and store the result in a new array. \n",
    "4. Multiply myarray1 and myarray2 elementwise. \n",
    "5. Do the matrix multiplication of myarray1 and myarray2 and store the result in a new array myarray3. \n",
    "6. Divide myarray1 by myarray2. \n",
    "7. Find the cube of all elements of myarray1 and divide the resulting array by 2. \n",
    "8. Find the square root of all elements of myarray2   and divide the resulting array by 2. The result  should be rounded to two places of decimals."
   ]
  },
  {
   "cell_type": "code",
   "execution_count": 194,
   "id": "3c933386",
   "metadata": {},
   "outputs": [
    {
     "data": {
      "text/plain": [
       "array([[1.  , 1.41, 1.73, 2.  , 2.24],\n",
       "       [2.45, 2.65, 2.83, 3.  , 3.16],\n",
       "       [3.32, 3.46, 3.61, 3.74, 3.87]])"
      ]
     },
     "execution_count": 194,
     "metadata": {},
     "output_type": "execute_result"
    }
   ],
   "source": [
    "# Write your answer here\n",
    "\n",
    "#Q1:\n",
    "ones/3\n",
    "\n",
    "#Q2:\n",
    "myarray1 + myarray2[ : , :3]\n",
    "\n",
    "#Q3:\n",
    "myarray3 = myarray1 + myarray2[ : , :3]\n",
    "myarray3\n",
    "\n",
    "#Q4:\n",
    "myarray1 * myarray2[ : , :3]\n",
    "\n",
    "#Q5:\n",
    "myarray4 = np.dot(myarray1, myarray2)\n",
    "myarray4\n",
    "\n",
    "#Q6:\n",
    "myarray1 / myarray2[ : , :3]\n",
    "\n",
    "#Q7:\n",
    "(myarray1 ** 3)/2\n",
    "\n",
    "#Q8:\n",
    "np.round(np.sqrt(myarray2)/2, 2)"
   ]
  },
  {
   "cell_type": "markdown",
   "id": "d8aafc74",
   "metadata": {},
   "source": [
    "Using the arrays created above, write NumPy commands for the following: \n",
    "1. Find the transpose of ones and myarray2. \n",
    "2. Sort the array vowels in reverse. \n",
    "3. Sort the array myarray1 such that it brings the lowest value of the column in the first row and so on."
   ]
  },
  {
   "cell_type": "code",
   "execution_count": 196,
   "id": "573c6506",
   "metadata": {},
   "outputs": [
    {
     "data": {
      "text/plain": [
       "array([[ 4.,  8., 12., 16., 20.],\n",
       "       [24., 28., 32., 36., 40.],\n",
       "       [44., 48., 52., 56., 60.]])"
      ]
     },
     "execution_count": 196,
     "metadata": {},
     "output_type": "execute_result"
    }
   ],
   "source": [
    "# Write your answer here\n",
    "\n",
    "#Q1:\n",
    "ones.T\n",
    "myarray2.T\n",
    "\n",
    "#Q2:\n",
    "np.sort(vowels)[::-1]\n",
    "\n",
    "#Q3:\n",
    "np.sort(myarray2, axis=0)"
   ]
  },
  {
   "cell_type": "markdown",
   "id": "93546856",
   "metadata": {},
   "source": [
    "Create a 2-D array called myarray4 using arange() having 14 rows and 3 columns with start value = -1, step size 0.25 having. Split this array row wise into 3 equal parts and print the result. "
   ]
  },
  {
   "cell_type": "code",
   "execution_count": 198,
   "id": "441dd934",
   "metadata": {},
   "outputs": [
    {
     "data": {
      "text/plain": [
       "[array([[-1.  , -0.75, -0.5 ],\n",
       "        [-0.25,  0.  ,  0.25],\n",
       "        [ 0.5 ,  0.75,  1.  ],\n",
       "        [ 1.25,  1.5 ,  1.75],\n",
       "        [ 2.  ,  2.25,  2.5 ]]),\n",
       " array([[2.75, 3.  , 3.25],\n",
       "        [3.5 , 3.75, 4.  ],\n",
       "        [4.25, 4.5 , 4.75],\n",
       "        [5.  , 5.25, 5.5 ],\n",
       "        [5.75, 6.  , 6.25]]),\n",
       " array([[6.5 , 6.75, 7.  ],\n",
       "        [7.25, 7.5 , 7.75],\n",
       "        [8.  , 8.25, 8.5 ],\n",
       "        [8.75, 9.  , 9.25]])]"
      ]
     },
     "execution_count": 198,
     "metadata": {},
     "output_type": "execute_result"
    }
   ],
   "source": [
    "# Write your answer here\n",
    "\n",
    "myarray4 = np.arange(-1, -1 + 0.25 * 42, 0.25).reshape(14,3)\n",
    "np.array_split(myarray4, 3)"
   ]
  },
  {
   "cell_type": "markdown",
   "id": "c8cdbaff",
   "metadata": {},
   "source": [
    "Using the myarray4 created in the above questions, write commands for the following: \n",
    "1. Find the sum of all elements. \n",
    "2. Find the sum of all elements row wise\n",
    "3. Find the sum of all elements column wise. \n",
    "4. Find the max of all elements. \n",
    "5. Find the min of all elements in each row. \n",
    "6. Find the mean of all elements in each row. \n",
    "7. Find the standard deviation column wise."
   ]
  },
  {
   "cell_type": "code",
   "execution_count": 200,
   "id": "66af8b55",
   "metadata": {},
   "outputs": [
    {
     "data": {
      "text/plain": [
       "array([3.02334666, 3.02334666, 3.02334666])"
      ]
     },
     "execution_count": 200,
     "metadata": {},
     "output_type": "execute_result"
    }
   ],
   "source": [
    "# Write your ansewr here\n",
    "\n",
    "#Q1:\n",
    "np.sum(myarray4)\n",
    "\n",
    "#Q2:\n",
    "np.sum(myarray4, axis=1)\n",
    "\n",
    "#Q3:\n",
    "np.sum(myarray4, axis=0)\n",
    "\n",
    "#Q4:\n",
    "np.max(myarray4)\n",
    "\n",
    "#Q5:\n",
    "np.min(myarray4, axis=1)\n",
    "\n",
    "#Q6:\n",
    "np.mean(myarray4, axis=1)\n",
    "\n",
    "#Q7:\n",
    "np.std(myarray4, axis=0)"
   ]
  },
  {
   "cell_type": "markdown",
   "id": "8d7e1dca",
   "metadata": {},
   "source": [
    "#### Practice Exercise 2\n",
    "Read the coordinates of the capital cities of the world from the country-capital-lat-long-population.csv file. Use NumPy to print the name and coordinates of the capital city closest to the Saudi Arabia capital - Riyadh.\n",
    "\n",
    "Note that:\n",
    "\n",
    "1. The Country Name for Saudi Arabia is given as Saudi Arabia in the data.\n",
    "2. The ‘closeness’ of capital cities from the Saudi Arabia capital is based on the Euclidean distance of their coordinates to those of the Saudi Arabia capital.\n",
    "\n",
    "\n",
    "Hints:\n",
    "\n",
    "1. Use read_html() from the Pandas library to read the table.\n",
    "2. Use the to_numpy() function of the Pandas DataFrame class to convert a DataFrame to a Numpy array\n",
    "3. Use broadcasting to compute the euclidean distance of capital cities from Riyadh."
   ]
  },
  {
   "cell_type": "code",
   "execution_count": 54,
   "id": "ab6b9725",
   "metadata": {},
   "outputs": [
    {
     "data": {
      "text/plain": [
       "Country                     Bahrain\n",
       "Capital City    Al-Manamah (Manama)\n",
       "Latitude                    26.2154\n",
       "Longitude                   50.5832\n",
       "Population                   564631\n",
       "Capital Type                Capital\n",
       "Name: 15, dtype: object"
      ]
     },
     "execution_count": 54,
     "metadata": {},
     "output_type": "execute_result"
    }
   ],
   "source": [
    "# Write your answer here\n",
    "\n",
    "import pandas as pd\n",
    "import numpy as np\n",
    "\n",
    "capitals = pd.read_csv('country-capital-lat-long-population.csv')\n",
    "capitals.head()\n",
    "\n",
    "capital_location = capitals.loc[:, ['Latitude', 'Longitude'] ].to_numpy()\n",
    "KSA_location = capitals.loc [capitals.Country == 'Saudi Arabia', ['Latitude', 'Longitude']].to_numpy()\n",
    "distance_from_riyadh = np.sqrt(np.sum((KSA_location - capital_location) ** 2, axis = 1))\n",
    "\n",
    "distance_from_riyadh[distance_from_riyadh == 0] = 9999\n",
    "closest_capital_index = np.argmin(distance_from_riyadh)\n",
    "\n",
    "capitals.iloc[closest_capital_index,:]"
   ]
  },
  {
   "cell_type": "markdown",
   "id": "1fdbec05",
   "metadata": {},
   "source": [
    "#### Practical Exercise 2\n",
    "\n",
    "Use NumPy to:\n",
    "\n",
    "1. Print the names of the countries of the top 10 capital cities closest to the US capital - Washington DC.\n",
    "\n",
    "2. Create and print a NumPy array containing the coordinates of the top 10 cities."
   ]
  },
  {
   "cell_type": "code",
   "execution_count": 52,
   "id": "45046a85",
   "metadata": {},
   "outputs": [
    {
     "name": "stdout",
     "output_type": "stream",
     "text": [
      "Countries of the top 10 closest capital cities to Washington, DC:\n",
      "Canada\n",
      "Bahamas\n",
      "Bermuda\n",
      "Cuba\n",
      "Turks and Caicos Islands\n",
      "Cayman Islands\n",
      "Haiti\n",
      "Jamaica\n",
      "Dominican Republic\n",
      "Saint Pierre and Miquelon\n",
      "\n",
      "Coordinates of the top 10 closest capital cities to Washington, DC:\n",
      "[[ 45.4166 -75.698 ]\n",
      " [ 25.0582 -77.3431]\n",
      " [ 32.2915 -64.778 ]\n",
      " [ 23.1195 -82.3785]\n",
      " [ 21.4612 -71.1419]\n",
      " [ 19.2866 -81.3744]\n",
      " [ 18.5392 -72.335 ]\n",
      " [ 17.997  -76.7936]\n",
      " [ 18.4896 -69.9018]\n",
      " [ 46.7738 -56.1815]]\n"
     ]
    }
   ],
   "source": [
    "# Write your answer here\n",
    "\n",
    "import pandas as pd\n",
    "import numpy as np\n",
    "\n",
    "capitals = pd.read_csv('country-capital-lat-long-population.csv')\n",
    "\n",
    "DC_location = capitals.loc[capitals['Capital City'] == 'Washington, D.C.', ['Latitude', 'Longitude']].to_numpy()\n",
    "\n",
    "capital_locations = capitals.loc[:, ['Latitude', 'Longitude']].to_numpy()\n",
    "\n",
    "distances = np.sqrt(np.sum((capital_locations - DC_location) ** 2, axis=1))\n",
    "\n",
    "distances[distances == 0] = np.inf\n",
    "\n",
    "closest_indices = np.argsort(distances)[:10]\n",
    "\n",
    "closest_capitals = capitals.iloc[closest_indices]\n",
    "\n",
    "print(\"Countries of the top 10 closest capital cities to Washington, DC:\")\n",
    "for country in closest_capitals['Country']:\n",
    "    print(country)\n",
    "\n",
    "top_10_coordinates = closest_capitals.loc[:, ['Latitude', 'Longitude']].to_numpy()\n",
    "print(\"\\nCoordinates of the top 10 closest capital cities to Washington, DC:\")\n",
    "print(top_10_coordinates)"
   ]
  }
 ],
 "metadata": {
  "kernelspec": {
   "display_name": "Python 3 (ipykernel)",
   "language": "python",
   "name": "python3"
  },
  "language_info": {
   "codemirror_mode": {
    "name": "ipython",
    "version": 3
   },
   "file_extension": ".py",
   "mimetype": "text/x-python",
   "name": "python",
   "nbconvert_exporter": "python",
   "pygments_lexer": "ipython3",
   "version": "3.9.12"
  }
 },
 "nbformat": 4,
 "nbformat_minor": 5
}
